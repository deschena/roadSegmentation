{
 "cells": [
  {
   "cell_type": "code",
   "execution_count": null,
   "metadata": {},
   "outputs": [],
   "source": [
    "!ssh-keygen -t rsa -b 4096\n",
    "!ssh-keyscan -t rsa github.com >> ~/.ssh/known_hosts\n",
    "!cat /root/.ssh/id_rsa.pub"
   ]
  },
  {
   "cell_type": "code",
   "execution_count": null,
   "metadata": {},
   "outputs": [],
   "source": [
    "!ssh -T git@github.com\n",
    "!git config --global user.email \"justin.deschenauxy@epfl.com\"\n",
    "!git config --global user.name \"Justin-Collab\"\n",
    "!git clone git@github.com:deschena/colab_unet_train.git\n",
    "!mv colab_unet_train/* .\n",
    "from google.colab import drive\n",
    "drive.mount('/content/gdrive')\n",
    "!nvidia-smi -L"
   ]
  },
  {
   "cell_type": "code",
   "execution_count": 1,
   "metadata": {},
   "outputs": [],
   "source": [
    "import numpy as np\n",
    "import torch\n",
    "import torch.nn as nn\n",
    "import torch.optim as optim\n",
    "import torch.nn.functional as F\n",
    "import torchvision\n",
    "from torch.utils.data import DataLoader, Dataset\n",
    "from matplotlib import pyplot as plt\n",
    "import matplotlib.image as mpimg\n",
    "import os, sys, io, random\n",
    "from PIL import Image\n",
    "from collections import OrderedDict\n",
    "\n",
    "from datasets.AugmDataset import AugmDataset\n",
    "from models.Unet import Unet\n",
    "from models.DenseUnet import DenseUnet\n",
    "from utils import *\n",
    "%matplotlib inline"
   ]
  },
  {
   "cell_type": "markdown",
   "metadata": {},
   "source": [
    "# Model Selection"
   ]
  },
  {
   "cell_type": "code",
   "execution_count": null,
   "metadata": {},
   "outputs": [],
   "source": [
    "# For reproducibility\n",
    "SEED = 987897\n",
    "np.random.seed(SEED)\n",
    "random.seed(SEED)\n",
    "torch.random.manual_seed(SEED)\n",
    "print(\"All random seeds set\")"
   ]
  },
  {
   "cell_type": "code",
   "execution_count": null,
   "metadata": {},
   "outputs": [],
   "source": [
    "device = \"cuda\"\n",
    "batch_size=16\n",
    "root_path = \"datasets/augmented_dataset/\"\n",
    "train_name = \"msel_train/\"\n",
    "valid_name = \"msel_valid/\"\n",
    "test_name = \"msel_test/\"\n",
    "\n",
    "test_set = AugmDataset(root_dir=root_path, name=test_name)\n",
    "val_loader = DataLoader(test_set, batch_size=2 * batch_size, shuffle=False, num_workers=8)"
   ]
  },
  {
   "cell_type": "code",
   "execution_count": null,
   "metadata": {},
   "outputs": [],
   "source": [
    "def train_net(net, train_name, valid_name, alpha, beta, seed=999, max_epoch=50, net_name=\"DEFAULT\", patience=4, verbose=True, batch_size=16):\n",
    "    torch.random.manual_seed(seed)\n",
    "    random.seed(seed)\n",
    "    np.random.seed(seed)\n",
    "    device = \"cuda\"\n",
    "    root_path = \"datasets/augmented_dataset/\"\n",
    "\n",
    "    bce = nn.BCELoss()\n",
    "    criterion = composite_loss(bce, alpha=alpha, beta=beta, )\n",
    "    \n",
    "    train_set = AugmDataset(root_dir=root_path, name=train_name)\n",
    "    train_loader = DataLoader(train_set, batch_size=batch_size, shuffle=True, num_workers=batch_size)    \n",
    "\n",
    "    validation_set = AugmDataset(root_dir=root_path,name=valid_name)\n",
    "    validation_loader = DataLoader(validation_set, batch_size=2*batch_size, shuffle=False, num_workers=2*batch_size)\n",
    "    \n",
    "    # Send to GPU, prepare optimizer and learning rate scheduler\n",
    "    net.to(device)\n",
    "    optimizer = optim.Adam(net.parameters())\n",
    "    scheduler = optim.lr_scheduler.ReduceLROnPlateau(optimizer, factor=0.5, patience=patience, verbose=verbose)\n",
    "    \n",
    "    validation_loss = []\n",
    "    training_loss = []\n",
    "    loss = -1\n",
    "    best_current_loss = -1\n",
    "    \n",
    "    for epoch in range(max_epoch):\n",
    "        net.train()\n",
    "        for batch_train, batch_gt in train_loader:\n",
    "            \n",
    "            # Send data to gpu\n",
    "            batch_train = batch_train.to(device)\n",
    "            batch_gt = batch_gt.to(device)\n",
    "            \n",
    "            # Clear accumulated gradients & compute prediction\n",
    "            optimizer.zero_grad()\n",
    "            output = net(batch_train)\n",
    "            # Compute loss, gradient & update parameters\n",
    "            loss = criterion(output, batch_gt)\n",
    "            loss.backward()\n",
    "            optimizer.step()\n",
    "            \n",
    "        # After each epoch, compute & save loss on training and validation sets\n",
    "        v_perf = validation_perf(net, validation_loader)\n",
    "        validation_loss.append(v_perf)\n",
    "        training_loss.append(loss)\n",
    "        # Check if scheduler must decrease learning rate\n",
    "        scheduler.step(v_perf)\n",
    "        if v_perf > best_current_loss:\n",
    "            # Save best net\n",
    "            torch.save(net.state_dict(), f\"/content/gdrive/My Drive/ML files/loss_experiment/{net_name}.pth\")\n",
    "            v_perf = best_current_loss\n",
    "        if verbose and epoch % 10 == 0:\n",
    "            print(f\"{epoch} epochs elapsed\")\n",
    "            \n",
    "    return training_loss, validation_loss"
   ]
  },
  {
   "cell_type": "markdown",
   "metadata": {},
   "source": [
    "#### Train the models\n",
    "**Models considered**:\n",
    "1. Standard Unet\n",
    "2. Attention Unet (channel attention)\n",
    "3. Attention Unet (pixel attention)\n",
    "4. Dense Unet\n",
    "5. Dense Attention Unet (channel attention)\n",
    "6. Dense Attention Unet (pixel attention)\n",
    "\n",
    "**Note**: all those flavours of u-net have the same structure: the skip connections in the middle have the same number of channels. The difference comes from the feature \"generation\" in the descending path: dense unet uses dense blocks instead of simple convolutions on the standard unet."
   ]
  },
  {
   "cell_type": "markdown",
   "metadata": {},
   "source": [
    "### Training the models\n",
    "We choose to conduct this experiment on the simler architecture we have: the original U-net. The reason behind this choice is that it is the one with the least parameters, hence is faster to train. We are aware that the parameters might be exactly the same in case we use a Dense Unet, or if we add an attention mechanism. However, we believe the change should not be very high."
   ]
  },
  {
   "cell_type": "code",
   "execution_count": null,
   "metadata": {},
   "outputs": [],
   "source": [
    "%%time\n",
    "net1 = Unet()\n",
    "net1_tr, net1_val = train_net(net1, train_name, valid_name, alpha=1, beta=0.0001, net_name=\"unet1\", batch_size=16)\n",
    "np.save(f\"/content/gdrive/My Drive/ML files/loss_experiment/unet1_tr_loss\", net1_tr)\n",
    "np.save(f\"/content/gdrive/My Drive/ML files/loss_experiment/unet1_val_loss\", net1_val)"
   ]
  },
  {
   "cell_type": "code",
   "execution_count": null,
   "metadata": {},
   "outputs": [],
   "source": [
    "%%time\n",
    "net2 = Unet()\n",
    "net2_tr, net2_val = train_net(net2, train_name, valid_name, alpha=1, beta=0.001, net_name=\"unet2\", batch_size=16)\n",
    "np.save(f\"/content/gdrive/My Drive/ML files/loss_experiment/unet2_tr_loss\", net2_tr)\n",
    "np.save(f\"/content/gdrive/My Drive/ML files/loss_experiment/unet2_val_loss\", net2_val)"
   ]
  },
  {
   "cell_type": "code",
   "execution_count": null,
   "metadata": {},
   "outputs": [],
   "source": [
    "%%time\n",
    "net3 = Unet()\n",
    "net3_tr, net3_val = train_net(net3, train_name, valid_name, alpha=1, beta=0.01, net_name=\"unet3\", batch_size=16)\n",
    "np.save(f\"/content/gdrive/My Drive/ML files/loss_experiment/unet3_tr_loss\", net3_tr)\n",
    "np.save(f\"/content/gdrive/My Drive/ML files/loss_experiment/unet3_val_loss\", net3_val)"
   ]
  },
  {
   "cell_type": "code",
   "execution_count": null,
   "metadata": {},
   "outputs": [],
   "source": [
    "%%time\n",
    "net4 = Unet()\n",
    "net4_tr, net4_val = train_net(net4, train_name, valid_name, alpha=1, beta=0.1, net_name=\"unet4\", batch_size=16)\n",
    "np.save(f\"/content/gdrive/My Drive/ML files/loss_experiment/unet4_tr_loss\", net4_tr)\n",
    "np.save(f\"/content/gdrive/My Drive/ML files/loss_experiment/unet4_val_loss\", net4_val)"
   ]
  },
  {
   "cell_type": "code",
   "execution_count": null,
   "metadata": {},
   "outputs": [],
   "source": [
    "%%time\n",
    "net5 = Unet()\n",
    "net5_tr, net5_val = train_net(net5, train_name, valid_name, alpha=0, beta=1, net_name=\"unet5\", batch_size=16)\n",
    "np.save(f\"/content/gdrive/My Drive/ML files/loss_experiment/unet5_tr_loss\", net5_tr)\n",
    "np.save(f\"/content/gdrive/My Drive/ML files/loss_experiment/unet5_val_loss\", net5_val)"
   ]
  },
  {
   "cell_type": "code",
   "execution_count": null,
   "metadata": {},
   "outputs": [],
   "source": [
    "%%time\n",
    "net6 = Unet()\n",
    "net6_tr, net6_val = train_net(net6, train_name, valid_name, alpha=1, beta=0, net_name=\"unet6\", batch_size=16)\n",
    "np.save(f\"/content/gdrive/My Drive/ML files/loss_experiment/unet6_tr_loss\", net6_tr)\n",
    "np.save(f\"/content/gdrive/My Drive/ML files/loss_experiment/unet6_val_loss\", net6_val)"
   ]
  },
  {
   "cell_type": "markdown",
   "metadata": {},
   "source": [
    "### Evaluating the performance of each loss\n",
    "After training those 6 U-nets, we wanted to evaluate their performance with respect to the different losses. Therefore, we evaluate their performance on the test set (20% of the original data)"
   ]
  },
  {
   "cell_type": "code",
   "execution_count": 2,
   "metadata": {},
   "outputs": [],
   "source": [
    "def load_unet(name):\n",
    "    path = \"experiments/loss_experiment/\" + name + \".pth\"\n",
    "    params = torch.load(path)\n",
    "    net = Unet()\n",
    "    net.load_state_dict(params)\n",
    "    net.eval()\n",
    "    net.to(\"cuda\")\n",
    "    return net"
   ]
  },
  {
   "cell_type": "code",
   "execution_count": 3,
   "metadata": {},
   "outputs": [],
   "source": [
    "def model_on_test_set(name, dataset_path, dataset_name):\n",
    "    dataset = AugmDataset(root_dir=dataset_path,name=dataset_name)\n",
    "    loader = DataLoader(dataset, batch_size=4, shuffle=False, num_workers=4)\n",
    "    net = load_unet(name)\n",
    "    res = validation_perf(net, loader)\n",
    "    return res"
   ]
  },
  {
   "cell_type": "code",
   "execution_count": 4,
   "metadata": {},
   "outputs": [],
   "source": [
    "perf1 = model_on_test_set(\"unet1\", \"datasets/augmented_dataset/\", \"msel_test/\")\n",
    "perf2 = model_on_test_set(\"unet2\", \"datasets/augmented_dataset/\", \"msel_test/\")\n",
    "perf3 = model_on_test_set(\"unet3\", \"datasets/augmented_dataset/\", \"msel_test/\")\n",
    "perf4 = model_on_test_set(\"unet4\", \"datasets/augmented_dataset/\", \"msel_test/\")\n",
    "perf5 = model_on_test_set(\"unet5\", \"datasets/augmented_dataset/\", \"msel_test/\")\n",
    "perf6 = model_on_test_set(\"unet6\", \"datasets/augmented_dataset/\", \"msel_test/\")"
   ]
  },
  {
   "cell_type": "code",
   "execution_count": 5,
   "metadata": {},
   "outputs": [
    {
     "name": "stdout",
     "output_type": "stream",
     "text": [
      "0.8448053498721457\n",
      "0.8356371938157967\n",
      "0.8550751842491513\n",
      "0.8541848943174892\n",
      "0.8565021327321677\n",
      "0.8265824633880856\n"
     ]
    }
   ],
   "source": [
    "print(perf1)\n",
    "print(perf2)\n",
    "print(perf3)\n",
    "print(perf4)\n",
    "print(perf5)\n",
    "print(perf6)"
   ]
  },
  {
   "cell_type": "markdown",
   "metadata": {},
   "source": [
    "Surprisingly, the composite loss is supersed by the simple one ! Hopefully we tested..."
   ]
  },
  {
   "cell_type": "code",
   "execution_count": 12,
   "metadata": {},
   "outputs": [],
   "source": [
    "val_score_1 = np.load(\"experiments/loss_experiment/unet1_val_loss.pth.npy\", allow_pickle=True)\n",
    "val_score_2 = np.load(\"experiments/loss_experiment/unet2_val_loss.pth.npy\", allow_pickle=True)\n",
    "val_score_3 = np.load(\"experiments/loss_experiment/unet3_val_loss.pth.npy\", allow_pickle=True)\n",
    "val_score_4 = np.load(\"experiments/loss_experiment/unet4_val_loss.pth.npy\", allow_pickle=True)\n",
    "val_score_5 = np.load(\"experiments/loss_experiment/unet5_val_loss.pth.npy\", allow_pickle=True)\n",
    "val_score_6 = np.load(\"experiments/loss_experiment/unet6_val_loss.pth.npy\", allow_pickle=True)"
   ]
  },
  {
   "cell_type": "code",
   "execution_count": 60,
   "metadata": {},
   "outputs": [
    {
     "data": {
      "image/png": "[encoded data removed]",
      "text/plain": [
       "<Figure size 432x216 with 1 Axes>"
      ]
     },
     "metadata": {
      "needs_background": "light"
     },
     "output_type": "display_data"
    }
   ],
   "source": [
    "fig = plt.figure(figsize=(6, 3))\n",
    "plt.title(\"Performance on validation set of the different losses\")\n",
    "plt.ylabel(\"F1-score\")\n",
    "plt.xlabel(\"Epoch\")\n",
    "epochs = np.arange(50)\n",
    "plt.ylim((0.82, 0.86))\n",
    "plt.xlim((10, 50))\n",
    "\n",
    "plt.plot(epochs, val_score_5, label=\"α=0, β=1\")\n",
    "plt.plot(epochs, val_score_4, label=\"α=1, β=0.1\")\n",
    "plt.plot(epochs, val_score_3, label=\"α=1, β=0.01\")\n",
    "plt.plot(epochs, val_score_1, label=\"α=1, β=0.0001\")\n",
    "plt.plot(epochs, val_score_2, label=\"α=1, β=0.001\")\n",
    "plt.plot(epochs, val_score_6, label=\"α=1, β=0\")\n",
    "plt.legend(bbox_to_anchor=(-0.02, -0.22), ncol=3)\n",
    "fig.subplots_adjust(bottom=0.31)\n",
    "plt.savefig(\"perf_wrt_loss.png\", dpi=300)"
   ]
  }
 ],
 "metadata": {
  "kernelspec": {
   "display_name": "Python 3",
   "language": "python",
   "name": "python3"
  },
  "language_info": {
   "codemirror_mode": {
    "name": "ipython",
    "version": 3
   },
   "file_extension": ".py",
   "mimetype": "text/x-python",
   "name": "python",
   "nbconvert_exporter": "python",
   "pygments_lexer": "ipython3",
   "version": "3.8.5"
  }
 },
 "nbformat": 4,
 "nbformat_minor": 4
}
